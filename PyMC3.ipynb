{
 "cells": [
  {
   "cell_type": "code",
   "execution_count": 2,
   "metadata": {},
   "outputs": [
    {
     "name": "stdout",
     "output_type": "stream",
     "text": [
      "Requirement already satisfied: wheel in ./.venv/lib/python3.9/site-packages (0.40.0)\n",
      "Note: you may need to restart the kernel to use updated packages.\n",
      "Requirement already satisfied: numpy in ./.venv/lib/python3.9/site-packages (from -r requirements.txt (line 1)) (1.22.1)\n",
      "Requirement already satisfied: pymc3 in ./.venv/lib/python3.9/site-packages (from -r requirements.txt (line 2)) (3.11.5)\n",
      "Requirement already satisfied: matplotlib in ./.venv/lib/python3.9/site-packages (from -r requirements.txt (line 3)) (3.7.1)\n",
      "Requirement already satisfied: seaborn in ./.venv/lib/python3.9/site-packages (from -r requirements.txt (line 4)) (0.12.2)\n",
      "Requirement already satisfied: scikit-learn in ./.venv/lib/python3.9/site-packages (from -r requirements.txt (line 6)) (1.2.2)\n",
      "Requirement already satisfied: statsmodels in ./.venv/lib/python3.9/site-packages (from -r requirements.txt (line 7)) (0.13.5)\n",
      "Requirement already satisfied: ipykernel in ./.venv/lib/python3.9/site-packages (from -r requirements.txt (line 8)) (6.22.0)\n",
      "Requirement already satisfied: wheel in ./.venv/lib/python3.9/site-packages (from -r requirements.txt (line 9)) (0.40.0)\n",
      "Requirement already satisfied: patsy>=0.5.1 in ./.venv/lib/python3.9/site-packages (from pymc3->-r requirements.txt (line 2)) (0.5.3)\n",
      "Requirement already satisfied: theano-pymc==1.1.2 in ./.venv/lib/python3.9/site-packages (from pymc3->-r requirements.txt (line 2)) (1.1.2)\n",
      "Requirement already satisfied: arviz>=0.11.0 in ./.venv/lib/python3.9/site-packages (from pymc3->-r requirements.txt (line 2)) (0.12.1)\n",
      "Requirement already satisfied: scipy<1.8.0,>=1.7.3 in ./.venv/lib/python3.9/site-packages (from pymc3->-r requirements.txt (line 2)) (1.7.3)\n",
      "Requirement already satisfied: cachetools>=4.2.1 in ./.venv/lib/python3.9/site-packages (from pymc3->-r requirements.txt (line 2)) (5.3.0)\n",
      "Requirement already satisfied: deprecat in ./.venv/lib/python3.9/site-packages (from pymc3->-r requirements.txt (line 2)) (2.1.1)\n",
      "Requirement already satisfied: typing-extensions>=3.7.4 in ./.venv/lib/python3.9/site-packages (from pymc3->-r requirements.txt (line 2)) (4.5.0)\n",
      "Requirement already satisfied: semver>=2.13.0 in ./.venv/lib/python3.9/site-packages (from pymc3->-r requirements.txt (line 2)) (3.0.0)\n",
      "Requirement already satisfied: fastprogress>=0.2.0 in ./.venv/lib/python3.9/site-packages (from pymc3->-r requirements.txt (line 2)) (1.0.3)\n",
      "Requirement already satisfied: pandas>=0.24.0 in ./.venv/lib/python3.9/site-packages (from pymc3->-r requirements.txt (line 2)) (1.5.3)\n",
      "Requirement already satisfied: dill in ./.venv/lib/python3.9/site-packages (from pymc3->-r requirements.txt (line 2)) (0.3.6)\n",
      "Requirement already satisfied: filelock in ./.venv/lib/python3.9/site-packages (from theano-pymc==1.1.2->pymc3->-r requirements.txt (line 2)) (3.11.0)\n",
      "Requirement already satisfied: pillow>=6.2.0 in ./.venv/lib/python3.9/site-packages (from matplotlib->-r requirements.txt (line 3)) (9.5.0)\n",
      "Requirement already satisfied: fonttools>=4.22.0 in ./.venv/lib/python3.9/site-packages (from matplotlib->-r requirements.txt (line 3)) (4.39.3)\n",
      "Requirement already satisfied: contourpy>=1.0.1 in ./.venv/lib/python3.9/site-packages (from matplotlib->-r requirements.txt (line 3)) (1.0.7)\n",
      "Requirement already satisfied: python-dateutil>=2.7 in ./.venv/lib/python3.9/site-packages (from matplotlib->-r requirements.txt (line 3)) (2.8.2)\n",
      "Requirement already satisfied: cycler>=0.10 in ./.venv/lib/python3.9/site-packages (from matplotlib->-r requirements.txt (line 3)) (0.11.0)\n",
      "Requirement already satisfied: packaging>=20.0 in ./.venv/lib/python3.9/site-packages (from matplotlib->-r requirements.txt (line 3)) (23.0)\n",
      "Requirement already satisfied: kiwisolver>=1.0.1 in ./.venv/lib/python3.9/site-packages (from matplotlib->-r requirements.txt (line 3)) (1.4.4)\n",
      "Requirement already satisfied: importlib-resources>=3.2.0 in ./.venv/lib/python3.9/site-packages (from matplotlib->-r requirements.txt (line 3)) (5.12.0)\n",
      "Requirement already satisfied: pyparsing>=2.3.1 in ./.venv/lib/python3.9/site-packages (from matplotlib->-r requirements.txt (line 3)) (3.0.9)\n",
      "Requirement already satisfied: threadpoolctl>=2.0.0 in ./.venv/lib/python3.9/site-packages (from scikit-learn->-r requirements.txt (line 6)) (3.1.0)\n",
      "Requirement already satisfied: joblib>=1.1.1 in ./.venv/lib/python3.9/site-packages (from scikit-learn->-r requirements.txt (line 6)) (1.2.0)\n",
      "Requirement already satisfied: ipython>=7.23.1 in ./.venv/lib/python3.9/site-packages (from ipykernel->-r requirements.txt (line 8)) (8.12.0)\n",
      "Requirement already satisfied: jupyter-core!=5.0.*,>=4.12 in ./.venv/lib/python3.9/site-packages (from ipykernel->-r requirements.txt (line 8)) (5.3.0)\n",
      "Requirement already satisfied: appnope in ./.venv/lib/python3.9/site-packages (from ipykernel->-r requirements.txt (line 8)) (0.1.3)\n",
      "Requirement already satisfied: comm>=0.1.1 in ./.venv/lib/python3.9/site-packages (from ipykernel->-r requirements.txt (line 8)) (0.1.3)\n",
      "Requirement already satisfied: debugpy>=1.6.5 in ./.venv/lib/python3.9/site-packages (from ipykernel->-r requirements.txt (line 8)) (1.6.7)\n",
      "Requirement already satisfied: jupyter-client>=6.1.12 in ./.venv/lib/python3.9/site-packages (from ipykernel->-r requirements.txt (line 8)) (8.1.0)\n",
      "Requirement already satisfied: tornado>=6.1 in ./.venv/lib/python3.9/site-packages (from ipykernel->-r requirements.txt (line 8)) (6.2)\n",
      "Requirement already satisfied: matplotlib-inline>=0.1 in ./.venv/lib/python3.9/site-packages (from ipykernel->-r requirements.txt (line 8)) (0.1.6)\n",
      "Requirement already satisfied: traitlets>=5.4.0 in ./.venv/lib/python3.9/site-packages (from ipykernel->-r requirements.txt (line 8)) (5.9.0)\n",
      "Requirement already satisfied: psutil in ./.venv/lib/python3.9/site-packages (from ipykernel->-r requirements.txt (line 8)) (5.9.4)\n",
      "Requirement already satisfied: nest-asyncio in ./.venv/lib/python3.9/site-packages (from ipykernel->-r requirements.txt (line 8)) (1.5.6)\n",
      "Requirement already satisfied: pyzmq>=20 in ./.venv/lib/python3.9/site-packages (from ipykernel->-r requirements.txt (line 8)) (25.0.2)\n",
      "Requirement already satisfied: xarray>=0.16.1 in ./.venv/lib/python3.9/site-packages (from arviz>=0.11.0->pymc3->-r requirements.txt (line 2)) (2023.3.0)\n",
      "Requirement already satisfied: netcdf4 in ./.venv/lib/python3.9/site-packages (from arviz>=0.11.0->pymc3->-r requirements.txt (line 2)) (1.6.3)\n",
      "Requirement already satisfied: setuptools>=38.4 in ./.venv/lib/python3.9/site-packages (from arviz>=0.11.0->pymc3->-r requirements.txt (line 2)) (65.6.3)\n",
      "Requirement already satisfied: xarray-einstats>=0.2 in ./.venv/lib/python3.9/site-packages (from arviz>=0.11.0->pymc3->-r requirements.txt (line 2)) (0.5.1)\n",
      "Requirement already satisfied: zipp>=3.1.0 in ./.venv/lib/python3.9/site-packages (from importlib-resources>=3.2.0->matplotlib->-r requirements.txt (line 3)) (3.15.0)\n",
      "Requirement already satisfied: pygments>=2.4.0 in ./.venv/lib/python3.9/site-packages (from ipython>=7.23.1->ipykernel->-r requirements.txt (line 8)) (2.15.0)\n",
      "Requirement already satisfied: pickleshare in ./.venv/lib/python3.9/site-packages (from ipython>=7.23.1->ipykernel->-r requirements.txt (line 8)) (0.7.5)\n",
      "Requirement already satisfied: prompt-toolkit!=3.0.37,<3.1.0,>=3.0.30 in ./.venv/lib/python3.9/site-packages (from ipython>=7.23.1->ipykernel->-r requirements.txt (line 8)) (3.0.38)\n",
      "Requirement already satisfied: pexpect>4.3 in ./.venv/lib/python3.9/site-packages (from ipython>=7.23.1->ipykernel->-r requirements.txt (line 8)) (4.8.0)\n",
      "Requirement already satisfied: stack-data in ./.venv/lib/python3.9/site-packages (from ipython>=7.23.1->ipykernel->-r requirements.txt (line 8)) (0.6.2)\n",
      "Requirement already satisfied: backcall in ./.venv/lib/python3.9/site-packages (from ipython>=7.23.1->ipykernel->-r requirements.txt (line 8)) (0.2.0)\n",
      "Requirement already satisfied: decorator in ./.venv/lib/python3.9/site-packages (from ipython>=7.23.1->ipykernel->-r requirements.txt (line 8)) (5.1.1)\n",
      "Requirement already satisfied: jedi>=0.16 in ./.venv/lib/python3.9/site-packages (from ipython>=7.23.1->ipykernel->-r requirements.txt (line 8)) (0.18.2)\n",
      "Requirement already satisfied: importlib-metadata>=4.8.3 in ./.venv/lib/python3.9/site-packages (from jupyter-client>=6.1.12->ipykernel->-r requirements.txt (line 8)) (6.3.0)\n",
      "Requirement already satisfied: platformdirs>=2.5 in ./.venv/lib/python3.9/site-packages (from jupyter-core!=5.0.*,>=4.12->ipykernel->-r requirements.txt (line 8)) (3.2.0)\n",
      "Requirement already satisfied: pytz>=2020.1 in ./.venv/lib/python3.9/site-packages (from pandas>=0.24.0->pymc3->-r requirements.txt (line 2)) (2023.3)\n",
      "Requirement already satisfied: six in ./.venv/lib/python3.9/site-packages (from patsy>=0.5.1->pymc3->-r requirements.txt (line 2)) (1.16.0)\n",
      "Requirement already satisfied: wrapt<2,>=1.10 in ./.venv/lib/python3.9/site-packages (from deprecat->pymc3->-r requirements.txt (line 2)) (1.15.0)\n",
      "Requirement already satisfied: parso<0.9.0,>=0.8.0 in ./.venv/lib/python3.9/site-packages (from jedi>=0.16->ipython>=7.23.1->ipykernel->-r requirements.txt (line 8)) (0.8.3)\n",
      "Requirement already satisfied: ptyprocess>=0.5 in ./.venv/lib/python3.9/site-packages (from pexpect>4.3->ipython>=7.23.1->ipykernel->-r requirements.txt (line 8)) (0.7.0)\n",
      "Requirement already satisfied: wcwidth in ./.venv/lib/python3.9/site-packages (from prompt-toolkit!=3.0.37,<3.1.0,>=3.0.30->ipython>=7.23.1->ipykernel->-r requirements.txt (line 8)) (0.2.6)\n",
      "Requirement already satisfied: cftime in ./.venv/lib/python3.9/site-packages (from netcdf4->arviz>=0.11.0->pymc3->-r requirements.txt (line 2)) (1.6.2)\n",
      "Requirement already satisfied: asttokens>=2.1.0 in ./.venv/lib/python3.9/site-packages (from stack-data->ipython>=7.23.1->ipykernel->-r requirements.txt (line 8)) (2.2.1)\n",
      "Requirement already satisfied: pure-eval in ./.venv/lib/python3.9/site-packages (from stack-data->ipython>=7.23.1->ipykernel->-r requirements.txt (line 8)) (0.2.2)\n",
      "Requirement already satisfied: executing>=1.2.0 in ./.venv/lib/python3.9/site-packages (from stack-data->ipython>=7.23.1->ipykernel->-r requirements.txt (line 8)) (1.2.0)\n",
      "Note: you may need to restart the kernel to use updated packages.\n"
     ]
    }
   ],
   "source": [
    "%pip install wheel\n",
    "%pip install -r requirements.txt"
   ]
  },
  {
   "cell_type": "code",
   "execution_count": 3,
   "metadata": {},
   "outputs": [],
   "source": [
    "import pymc3 as pm\n",
    "import numpy as np\n",
    "import matplotlib.pyplot as plt\n",
    "import seaborn as sns\n",
    "from sklearn.linear_model import LinearRegression"
   ]
  },
  {
   "cell_type": "markdown",
   "metadata": {},
   "source": [
    "# Generate Data\n",
    "***"
   ]
  },
  {
   "cell_type": "markdown",
   "metadata": {},
   "source": [
    "# $y_{true}=mx+b$\n",
    "# $y=y_{true} + N(0,\\sigma)$\n",
    "***"
   ]
  },
  {
   "cell_type": "code",
   "execution_count": 4,
   "metadata": {},
   "outputs": [],
   "source": [
    "true_slope = 5\n",
    "true_intercept = 10\n",
    "true_sigma = 1\n",
    "\n",
    "num_points = 10\n",
    "\n",
    "x_vals = np.linspace(0, 1, num_points)\n",
    "true_y_vals = true_slope * x_vals + true_intercept\n",
    "y_vals = true_y_vals + np.random.normal(scale=true_sigma, size=num_points)\n",
    "\n",
    "true_params = {'slope': true_slope, 'intercept': true_intercept, 'sigma': true_sigma}"
   ]
  },
  {
   "cell_type": "code",
   "execution_count": 5,
   "metadata": {},
   "outputs": [
    {
     "data": {
      "text/plain": [
       "<matplotlib.legend.Legend at 0x13dc3f100>"
      ]
     },
     "execution_count": 5,
     "metadata": {},
     "output_type": "execute_result"
    },
    {
     "data": {
      "image/png": "[encoded data removed]",
      "text/plain": [
       "<Figure size 700x700 with 1 Axes>"
      ]
     },
     "metadata": {},
     "output_type": "display_data"
    }
   ],
   "source": [
    "plt.figure(figsize=(7,7))\n",
    "p1 = plt.scatter(x_vals, y_vals)\n",
    "p2, = plt.plot(x_vals, true_y_vals, color='r')\n",
    "plt.xlabel('x', fontsize=20)\n",
    "plt.ylabel('y', fontsize=20)\n",
    "plt.legend((p1, p2), ('samples', 'true line'), fontsize=18)"
   ]
  },
  {
   "cell_type": "markdown",
   "metadata": {},
   "source": [
    "# Fit a Usual Linear Model"
   ]
  },
  {
   "cell_type": "code",
   "execution_count": 6,
   "metadata": {},
   "outputs": [
    {
     "name": "stdout",
     "output_type": "stream",
     "text": [
      "True Model:\n",
      "y_true = 5*x + 10\n",
      "True sigma: 1\n",
      "\n",
      "Estimated Model:\n",
      "y_hat = 5.0273434190191395*x + 9.559579361786225\n",
      "Sd Residuals: 0.828256839926912\n"
     ]
    }
   ],
   "source": [
    "clf = LinearRegression()\n",
    "clf.fit(x_vals.reshape(-1,1), y_vals)\n",
    "preds = clf.predict(x_vals.reshape(-1,1))\n",
    "resids = preds - y_vals\n",
    "\n",
    "print('True Model:')\n",
    "print('y_true = %s*x + %s'%(true_slope, true_intercept))\n",
    "print('True sigma: %s\\n'%true_params['sigma'])\n",
    "\n",
    "print('Estimated Model:')\n",
    "print('y_hat = %s*x + %s'%(clf.coef_[0], clf.intercept_))\n",
    "print('Sd Residuals: %s'%(resids.std()))\n",
    "\n",
    "mle_estimates = {'slope': clf.coef_[0], 'intercept': clf.intercept_, 'sigma': resids.std()}"
   ]
  },
  {
   "cell_type": "markdown",
   "metadata": {},
   "source": [
    "# Bayesian Analysis with PyMC3\n",
    "***"
   ]
  },
  {
   "cell_type": "markdown",
   "metadata": {},
   "source": [
    "# Priors:\n",
    "## $m \\sim N(0,20)$\n",
    "## $b \\sim N(0,20)$\n",
    "## $\\sigma \\sim Exp(1)$\n",
    "***"
   ]
  },
  {
   "cell_type": "markdown",
   "metadata": {},
   "source": [
    "# Likelihood:\n",
    "## $y|m,b,\\sigma \\sim N(mx+b, \\sigma)$\n",
    "***"
   ]
  },
  {
   "cell_type": "markdown",
   "metadata": {},
   "source": [
    "# Posterior\n",
    "## $m,b,\\sigma | y \\sim ?$\n",
    "## $P(m,b,\\sigma|y) \\propto P(y|m,b,\\sigma) \\times P(m) \\times P(b) \\times P(\\sigma)$\n",
    "***"
   ]
  },
  {
   "cell_type": "code",
   "execution_count": 7,
   "metadata": {},
   "outputs": [
    {
     "name": "stderr",
     "output_type": "stream",
     "text": [
      "/Users/clark.mobarry/git/YouTubeVideoCode/.venv/lib/python3.9/site-packages/deprecat/classic.py:215: FutureWarning: In v4.0, pm.sample will return an `arviz.InferenceData` object instead of a `MultiTrace` by default. You can pass return_inferencedata=True or return_inferencedata=False to be safe and silence this warning.\n",
      "  return wrapped_(*args_, **kwargs_)\n",
      "Auto-assigning NUTS sampler...\n",
      "Initializing NUTS using jitter+adapt_diag...\n"
     ]
    }
   ],
   "source": [
    "with pm.Model() as model:\n",
    "    #priors\n",
    "    sigma = pm.Exponential(\"sigma\", lam=1.0)\n",
    "    intercept = pm.Normal(\"intercept\", mu=0, sigma=20)\n",
    "    slope = pm.Normal(\"slope\", mu=0, sigma=20)\n",
    "\n",
    "    #Likelihood\n",
    "    likelihood = pm.Normal(\"y\", mu=slope*x_vals + intercept, sigma=sigma, observed=y_vals)\n",
    "\n",
    "    #posterior\n",
    "    trace = pm.sample(1000, cores=4)"
   ]
  },
  {
   "cell_type": "code",
   "execution_count": null,
   "metadata": {},
   "outputs": [],
   "source": [
    "plt.figure(figsize=(7, 7))\n",
    "pm.traceplot(trace)\n",
    "plt.tight_layout()"
   ]
  },
  {
   "cell_type": "code",
   "execution_count": null,
   "metadata": {},
   "outputs": [],
   "source": [
    "for var in ['slope', 'intercept', 'sigma']:\n",
    "    plt.figure(figsize=(10,4))\n",
    "    vals = trace.get_values(var)\n",
    "    mean, lower, upper = round(vals.mean(),2), round(vals.mean()-vals.std(),2), round(vals.mean()+vals.std(),2)\n",
    "    sns.distplot(vals)\n",
    "    posterior_est = plt.axvline(mean, color='b')\n",
    "    mle_est = plt.axvline(mle_estimates[var], color='b', linestyle='dotted')\n",
    "    plt.axvline(lower, color='r', linestyle='--')\n",
    "    plt.axvline(upper, color='r', linestyle='--')\n",
    "    plt.title('%s [True = %s]\\nPosterior Mean: %s\\nBound: (%s, %s)'%(var,true_params[var],mean,lower,upper), fontsize=20)\n",
    "    true_val = plt.axvline(true_params[var], color='k')\n",
    "    \n",
    "    plt.legend((true_val, mle_est, posterior_est), ('true', 'MLE', 'Posterior Mean'), fontsize=18)\n",
    "    \n",
    "    plt.show()"
   ]
  },
  {
   "cell_type": "code",
   "execution_count": null,
   "metadata": {},
   "outputs": [],
   "source": []
  },
  {
   "cell_type": "code",
   "execution_count": null,
   "metadata": {},
   "outputs": [],
   "source": []
  },
  {
   "cell_type": "code",
   "execution_count": null,
   "metadata": {},
   "outputs": [],
   "source": []
  },
  {
   "cell_type": "code",
   "execution_count": null,
   "metadata": {},
   "outputs": [],
   "source": []
  }
 ],
 "metadata": {
  "kernelspec": {
   "display_name": "Python 3",
   "language": "python",
   "name": "python3"
  },
  "language_info": {
   "codemirror_mode": {
    "name": "ipython",
    "version": 3
   },
   "file_extension": ".py",
   "mimetype": "text/x-python",
   "name": "python",
   "nbconvert_exporter": "python",
   "pygments_lexer": "ipython3",
   "version": "3.9.16"
  }
 },
 "nbformat": 4,
 "nbformat_minor": 4
}
